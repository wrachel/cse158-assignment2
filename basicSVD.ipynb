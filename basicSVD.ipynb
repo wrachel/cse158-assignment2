{
 "cells": [
  {
   "cell_type": "code",
   "execution_count": 18,
   "metadata": {},
   "outputs": [],
   "source": [
    "import pandas as pd\n",
    "from surprise import SVD, Reader, Dataset, accuracy"
   ]
  },
  {
   "cell_type": "code",
   "execution_count": 4,
   "metadata": {},
   "outputs": [],
   "source": [
    "ratingsTrain = pd.read_csv('data/interactions_train.csv')\n",
    "ratingsTest = pd.read_csv('data/interactions_test.csv')"
   ]
  },
  {
   "cell_type": "code",
   "execution_count": 8,
   "metadata": {},
   "outputs": [
    {
     "data": {
      "text/html": [
       "<div>\n",
       "<style scoped>\n",
       "    .dataframe tbody tr th:only-of-type {\n",
       "        vertical-align: middle;\n",
       "    }\n",
       "\n",
       "    .dataframe tbody tr th {\n",
       "        vertical-align: top;\n",
       "    }\n",
       "\n",
       "    .dataframe thead th {\n",
       "        text-align: right;\n",
       "    }\n",
       "</style>\n",
       "<table border=\"1\" class=\"dataframe\">\n",
       "  <thead>\n",
       "    <tr style=\"text-align: right;\">\n",
       "      <th></th>\n",
       "      <th>user_id</th>\n",
       "      <th>recipe_id</th>\n",
       "      <th>rating</th>\n",
       "    </tr>\n",
       "  </thead>\n",
       "  <tbody>\n",
       "    <tr>\n",
       "      <th>0</th>\n",
       "      <td>2046</td>\n",
       "      <td>4684</td>\n",
       "      <td>5.0</td>\n",
       "    </tr>\n",
       "    <tr>\n",
       "      <th>1</th>\n",
       "      <td>2046</td>\n",
       "      <td>517</td>\n",
       "      <td>5.0</td>\n",
       "    </tr>\n",
       "    <tr>\n",
       "      <th>2</th>\n",
       "      <td>1773</td>\n",
       "      <td>7435</td>\n",
       "      <td>5.0</td>\n",
       "    </tr>\n",
       "    <tr>\n",
       "      <th>3</th>\n",
       "      <td>1773</td>\n",
       "      <td>278</td>\n",
       "      <td>4.0</td>\n",
       "    </tr>\n",
       "    <tr>\n",
       "      <th>4</th>\n",
       "      <td>2046</td>\n",
       "      <td>3431</td>\n",
       "      <td>5.0</td>\n",
       "    </tr>\n",
       "    <tr>\n",
       "      <th>...</th>\n",
       "      <td>...</td>\n",
       "      <td>...</td>\n",
       "      <td>...</td>\n",
       "    </tr>\n",
       "    <tr>\n",
       "      <th>698896</th>\n",
       "      <td>926904</td>\n",
       "      <td>457971</td>\n",
       "      <td>5.0</td>\n",
       "    </tr>\n",
       "    <tr>\n",
       "      <th>698897</th>\n",
       "      <td>2002312797</td>\n",
       "      <td>27208</td>\n",
       "      <td>5.0</td>\n",
       "    </tr>\n",
       "    <tr>\n",
       "      <th>698898</th>\n",
       "      <td>1290903</td>\n",
       "      <td>131607</td>\n",
       "      <td>5.0</td>\n",
       "    </tr>\n",
       "    <tr>\n",
       "      <th>698899</th>\n",
       "      <td>226867</td>\n",
       "      <td>363072</td>\n",
       "      <td>5.0</td>\n",
       "    </tr>\n",
       "    <tr>\n",
       "      <th>698900</th>\n",
       "      <td>2000498330</td>\n",
       "      <td>314535</td>\n",
       "      <td>5.0</td>\n",
       "    </tr>\n",
       "  </tbody>\n",
       "</table>\n",
       "<p>698901 rows × 3 columns</p>\n",
       "</div>"
      ],
      "text/plain": [
       "           user_id  recipe_id  rating\n",
       "0             2046       4684     5.0\n",
       "1             2046        517     5.0\n",
       "2             1773       7435     5.0\n",
       "3             1773        278     4.0\n",
       "4             2046       3431     5.0\n",
       "...            ...        ...     ...\n",
       "698896      926904     457971     5.0\n",
       "698897  2002312797      27208     5.0\n",
       "698898     1290903     131607     5.0\n",
       "698899      226867     363072     5.0\n",
       "698900  2000498330     314535     5.0\n",
       "\n",
       "[698901 rows x 3 columns]"
      ]
     },
     "execution_count": 8,
     "metadata": {},
     "output_type": "execute_result"
    }
   ],
   "source": [
    "isolatedTrain = ratingsTrain[['user_id', 'recipe_id', 'rating']]\n",
    "isolatedTest = ratingsTest[['user_id', 'recipe_id', 'rating']]\n",
    "isolatedTrain"
   ]
  },
  {
   "cell_type": "code",
   "execution_count": 29,
   "metadata": {},
   "outputs": [
    {
     "name": "stdout",
     "output_type": "stream",
     "text": [
      "0.001000: 1.749913\n",
      "0.010000: 1.750575\n",
      "0.100000: 1.752146\n",
      "1.000000: 1.779765\n"
     ]
    }
   ],
   "source": [
    "reader = Reader(rating_scale=(0, 5))\n",
    "train_dataset = Dataset.load_from_df(isolatedTrain, reader)\n",
    "test_dataset = Dataset.load_from_df(isolatedTest, reader)\n",
    "\n",
    "for i in range(-3, 1):\n",
    "    lam = 10 ** i\n",
    "\n",
    "    trainset = train_dataset.build_full_trainset()\n",
    "    model = SVD(reg_all=lam)\n",
    "    model.fit(trainset)\n",
    "\n",
    "    testset = test_dataset.build_full_trainset().build_testset()\n",
    "    predictions = model.test(testset)\n",
    "\n",
    "    mse = 0\n",
    "    for p in predictions:\n",
    "        mse += (p.r_ui - p.est) ** 2\n",
    "    mse /= len(predictions)\n",
    "\n",
    "    print(\"%f: %f\" % (lam, mse))"
   ]
  },
  {
   "cell_type": "code",
   "execution_count": 16,
   "metadata": {},
   "outputs": [
    {
     "data": {
      "text/plain": [
       "1.779734348947759"
      ]
     },
     "execution_count": 16,
     "metadata": {},
     "output_type": "execute_result"
    }
   ],
   "source": [
    "mse"
   ]
  },
  {
   "cell_type": "code",
   "execution_count": 22,
   "metadata": {},
   "outputs": [
    {
     "name": "stdout",
     "output_type": "stream",
     "text": [
      "RMSE: 1.3341\n"
     ]
    },
    {
     "data": {
      "text/plain": [
       "1.3340668457568934"
      ]
     },
     "execution_count": 22,
     "metadata": {},
     "output_type": "execute_result"
    }
   ],
   "source": [
    "accuracy.rmse(predictions)"
   ]
  },
  {
   "cell_type": "code",
   "execution_count": null,
   "metadata": {},
   "outputs": [],
   "source": []
  }
 ],
 "metadata": {
  "kernelspec": {
   "display_name": "Python 3",
   "language": "python",
   "name": "python3"
  },
  "language_info": {
   "codemirror_mode": {
    "name": "ipython",
    "version": 3
   },
   "file_extension": ".py",
   "mimetype": "text/x-python",
   "name": "python",
   "nbconvert_exporter": "python",
   "pygments_lexer": "ipython3",
   "version": "3.12.0"
  }
 },
 "nbformat": 4,
 "nbformat_minor": 2
}
