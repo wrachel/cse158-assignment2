{
 "cells": [
  {
   "cell_type": "code",
   "execution_count": 8,
   "metadata": {},
   "outputs": [],
   "source": [
    "import pandas as pd \n",
    "import scipy\n",
    "import numpy as np\n",
    "from fastFM import als\n",
    "from collections import defaultdict\n",
    "from sklearn.model_selection import train_test_split"
   ]
  },
  {
   "cell_type": "code",
   "execution_count": 103,
   "metadata": {},
   "outputs": [],
   "source": [
    "ratingsTrainDf = pd.read_csv('data/interactions_train.csv')\n",
    "recipes_RAW = pd.read_csv('data/RAW_recipes.csv').rename(columns={'id': 'recipe_id'})\n",
    "recipes_RAW.loc[144074, 'minutes'] = 25\n",
    "datasetDf = pd.merge(ratingsTrainDf, recipes_RAW, how='left', on='recipe_id')\n",
    "datasetDf = datasetDf[['user_id', 'recipe_id', 'rating', 'minutes', 'contributor_id', 'n_steps', 'n_ingredients']]"
   ]
  },
  {
   "cell_type": "code",
   "execution_count": 6,
   "metadata": {},
   "outputs": [],
   "source": [
    "# Baseline Factorization Machine"
   ]
  },
  {
   "cell_type": "code",
   "execution_count": null,
   "metadata": {},
   "outputs": [],
   "source": [
    "dataTrain = [row for _, row in datasetDf.iterrows()]"
   ]
  },
  {
   "cell_type": "code",
   "execution_count": 35,
   "metadata": {},
   "outputs": [],
   "source": [
    "userIDs,itemIDs = {},{}\n",
    "\n",
    "for d in dataTrain:\n",
    "    u,i = d['user_id'],d['recipe_id']\n",
    "    if not u in userIDs: userIDs[u] = len(userIDs)\n",
    "    if not i in itemIDs: itemIDs[i] = len(itemIDs)\n",
    "\n",
    "nUsers, nItems = len(userIDs),len(itemIDs)\n",
    "\n",
    "X = scipy.sparse.lil_matrix((len(dataTrain), nUsers + nItems))\n",
    "\n",
    "for i in range(len(dataTrain)):\n",
    "    user = userIDs[dataTrain[i]['user_id']]\n",
    "    item = itemIDs[dataTrain[i]['recipe_id']]\n",
    "    X[i,user] = 1 # One-hot encoding of user\n",
    "    X[i,nUsers + item] = 1 # One-hot encoding of item\n",
    "\n",
    "y = np.array([float(d['rating']) for d in dataTrain])\n"
   ]
  },
  {
   "cell_type": "code",
   "execution_count": 36,
   "metadata": {},
   "outputs": [],
   "source": [
    "X_train,y_train = X[:400000],y[:400000]\n",
    "X_test,y_test = X[400000:],y[400000:]"
   ]
  },
  {
   "cell_type": "code",
   "execution_count": 37,
   "metadata": {},
   "outputs": [],
   "source": [
    "fm = als.FMRegression(n_iter=100, init_stdev=0.1, rank=5, l2_reg_w=0.1, l2_reg_V=0.5)\n",
    "fm.fit(X_train, y_train)\n",
    "y_pred = fm.predict(X_test)"
   ]
  },
  {
   "cell_type": "code",
   "execution_count": 13,
   "metadata": {},
   "outputs": [],
   "source": [
    "def MSE(predictions, labels):\n",
    "    differences = [(x-y)**2 for x,y in zip(predictions,labels)]\n",
    "    return sum(differences) / len(differences)"
   ]
  },
  {
   "cell_type": "code",
   "execution_count": 38,
   "metadata": {},
   "outputs": [
    {
     "data": {
      "text/plain": [
       "np.float64(1.427173447955908)"
      ]
     },
     "execution_count": 38,
     "metadata": {},
     "output_type": "execute_result"
    }
   ],
   "source": [
    "MSE(y_pred, y_test)"
   ]
  },
  {
   "cell_type": "code",
   "execution_count": null,
   "metadata": {},
   "outputs": [],
   "source": [
    "### Added minutes"
   ]
  },
  {
   "cell_type": "code",
   "execution_count": 104,
   "metadata": {},
   "outputs": [],
   "source": [
    "def normalize(field):\n",
    "    array = []\n",
    "    for d in dataTrain:\n",
    "        array.append(d[field])\n",
    "    array = (np.min(array) - array) / (np.min(array) - np.max(array))\n",
    "    return array"
   ]
  },
  {
   "cell_type": "code",
   "execution_count": 105,
   "metadata": {},
   "outputs": [],
   "source": [
    "minutes = normalize('minutes')\n",
    "\n",
    "X = scipy.sparse.lil_matrix((len(dataTrain), nUsers + nItems + 1))\n",
    "\n",
    "for i in range(len(dataTrain)):\n",
    "    user = userIDs[dataTrain[i]['user_id']]\n",
    "    item = itemIDs[dataTrain[i]['recipe_id']]\n",
    "    X[i,user] = 1 # One-hot encoding of user\n",
    "    X[i,nUsers + item] = 1 # One-hot encoding of item\n",
    "    X[i,nUsers + nItems] = minutes[i]\n",
    "\n",
    "y = np.array([float(d['rating']) for d in dataTrain])\n",
    "\n",
    "X_train,y_train = X[:400000],y[:400000]\n",
    "X_test,y_test = X[400000:],y[400000:]"
   ]
  },
  {
   "cell_type": "code",
   "execution_count": 106,
   "metadata": {},
   "outputs": [],
   "source": [
    "fm = als.FMRegression(n_iter=100, init_stdev=0.1, rank=5, l2_reg_w=0.1, l2_reg_V=0.5)\n",
    "fm.fit(X_train, y_train)\n",
    "y_pred = fm.predict(X_test)"
   ]
  },
  {
   "cell_type": "code",
   "execution_count": 107,
   "metadata": {},
   "outputs": [
    {
     "data": {
      "text/plain": [
       "np.float64(1.4062152193704807)"
      ]
     },
     "execution_count": 107,
     "metadata": {},
     "output_type": "execute_result"
    }
   ],
   "source": [
    "MSE(y_pred, y_test)"
   ]
  },
  {
   "cell_type": "code",
   "execution_count": null,
   "metadata": {},
   "outputs": [],
   "source": [
    "### Contributor ID Added"
   ]
  },
  {
   "cell_type": "code",
   "execution_count": 39,
   "metadata": {},
   "outputs": [],
   "source": [
    "contributorIDs = {}\n",
    "\n",
    "for d in dataTrain:\n",
    "    c = d['contributor_id']\n",
    "    if not c in contributorIDs: contributorIDs[c] = len(contributorIDs)\n",
    "\n",
    "nContributors = len(contributorIDs)\n",
    "X = scipy.sparse.lil_matrix((len(dataTrain), nUsers + nItems + nContributors))\n",
    "\n",
    "for i in range(len(dataTrain)):\n",
    "    user = userIDs[dataTrain[i]['user_id']]\n",
    "    item = itemIDs[dataTrain[i]['recipe_id']]\n",
    "    contributor = contributorIDs[dataTrain[i]['contributor_id']]\n",
    "    X[i,user] = 1 # One-hot encoding of user\n",
    "    X[i,nUsers + item] = 1 # One-hot encoding of item\n",
    "    X[i,nUsers + nItems + contributor] = 1\n",
    "\n",
    "y = np.array([float(d['rating']) for d in dataTrain])\n",
    "\n",
    "X_train,y_train = X[:400000],y[:400000]\n",
    "X_test,y_test = X[400000:],y[400000:]\n"
   ]
  },
  {
   "cell_type": "code",
   "execution_count": 40,
   "metadata": {},
   "outputs": [],
   "source": [
    "fm = als.FMRegression(n_iter=100, init_stdev=0.1, rank=5, l2_reg_w=0.1, l2_reg_V=0.5)\n",
    "fm.fit(X_train, y_train)\n",
    "y_pred = fm.predict(X_test)"
   ]
  },
  {
   "cell_type": "code",
   "execution_count": 41,
   "metadata": {},
   "outputs": [
    {
     "data": {
      "text/plain": [
       "np.float64(1.4606811899541692)"
      ]
     },
     "execution_count": 41,
     "metadata": {},
     "output_type": "execute_result"
    }
   ],
   "source": [
    "MSE(y_pred, y_test)"
   ]
  },
  {
   "cell_type": "code",
   "execution_count": null,
   "metadata": {},
   "outputs": [],
   "source": [
    "### Add more numeric columns"
   ]
  },
  {
   "cell_type": "code",
   "execution_count": 109,
   "metadata": {},
   "outputs": [],
   "source": [
    "steps = normalize('n_steps')\n",
    "ingredients = normalize('n_ingredients')\n",
    "\n",
    "X = scipy.sparse.lil_matrix((len(dataTrain), nUsers + nItems + 3))\n",
    "\n",
    "for i in range(len(dataTrain)):\n",
    "    user = userIDs[dataTrain[i]['user_id']]\n",
    "    item = itemIDs[dataTrain[i]['recipe_id']]\n",
    "    X[i,user] = 1 # One-hot encoding of user\n",
    "    X[i,nUsers + item] = 1 # One-hot encoding of item\n",
    "    X[i,nUsers + nItems] = minutes[i]\n",
    "    X[i,nUsers + nItems] = steps[i]\n",
    "    X[i,nUsers + nItems] = ingredients[i]\n",
    "y = np.array([float(d['rating']) for d in dataTrain])\n",
    "\n",
    "X_train,y_train = X[:400000],y[:400000]\n",
    "X_test,y_test = X[400000:],y[400000:]"
   ]
  },
  {
   "cell_type": "code",
   "execution_count": 110,
   "metadata": {},
   "outputs": [],
   "source": [
    "fm = als.FMRegression(n_iter=100, init_stdev=0.1, rank=5, l2_reg_w=0.1, l2_reg_V=0.5)\n",
    "fm.fit(X_train, y_train)\n",
    "y_pred = fm.predict(X_test)"
   ]
  },
  {
   "cell_type": "code",
   "execution_count": 111,
   "metadata": {},
   "outputs": [
    {
     "data": {
      "text/plain": [
       "np.float64(1.4210398793240218)"
      ]
     },
     "execution_count": 111,
     "metadata": {},
     "output_type": "execute_result"
    }
   ],
   "source": [
    "MSE(y_pred, y_test)"
   ]
  },
  {
   "cell_type": "code",
   "execution_count": null,
   "metadata": {},
   "outputs": [],
   "source": []
  }
 ],
 "metadata": {
  "kernelspec": {
   "display_name": "Python 3",
   "language": "python",
   "name": "python3"
  },
  "language_info": {
   "codemirror_mode": {
    "name": "ipython",
    "version": 3
   },
   "file_extension": ".py",
   "mimetype": "text/x-python",
   "name": "python",
   "nbconvert_exporter": "python",
   "pygments_lexer": "ipython3",
   "version": "3.10.12"
  }
 },
 "nbformat": 4,
 "nbformat_minor": 2
}
