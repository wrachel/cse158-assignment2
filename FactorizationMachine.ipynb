{
 "cells": [
  {
   "cell_type": "code",
   "execution_count": 37,
   "metadata": {},
   "outputs": [],
   "source": [
    "import pandas as pd \n",
    "import scipy\n",
    "import numpy as np\n",
    "from fastFM import als\n",
    "from collections import defaultdict\n",
    "from sklearn.model_selection import train_test_split"
   ]
  },
  {
   "cell_type": "code",
   "execution_count": 38,
   "metadata": {},
   "outputs": [],
   "source": [
    "ratingsTrainDf = pd.read_csv('data/interactions_train.csv')\n",
    "recipes_RAW = pd.read_csv('data/RAW_recipes.csv').rename(columns={'id': 'recipe_id'})\n",
    "recipes_RAW.loc[144074, 'minutes'] = 25\n",
    "datasetDf = pd.merge(ratingsTrainDf, recipes_RAW, how='left', on='recipe_id')"
   ]
  },
  {
   "cell_type": "code",
   "execution_count": 39,
   "metadata": {},
   "outputs": [],
   "source": [
    "unique_recipe_contributors = recipes_RAW['contributor_id'].value_counts()\n",
    "avg_rating_and_unique_recipes = pd.DataFrame(unique_recipe_contributors).merge(right=datasetDf.groupby(['contributor_id'])['rating'].agg(['mean']),right_index=True,left_index=True)\n",
    "\n",
    "top_500_reviews = datasetDf.groupby('contributor_id')['rating'].agg(['count','mean']).sort_values(by='count')\n",
    "top_500_reviews = top_500_reviews[top_500_reviews['count'] > 500].index\n",
    "datasetDf['top_500_reviews'] = datasetDf['user_id'].apply(lambda x: x in top_500_reviews)\n",
    "top_50_recipes = avg_rating_and_unique_recipes[avg_rating_and_unique_recipes['count'] > 50].index \n",
    "datasetDf['top_50_recipes'] = datasetDf['user_id'].apply(lambda x: x in top_50_recipes)\n",
    "\n",
    "datasetDf = datasetDf.astype({'date':'datetime64[us]','submitted':'datetime64[us]'})\n",
    "\n",
    "datasetDf['days_difference'] = (datasetDf.date - datasetDf.submitted).dt.days\n"
   ]
  },
  {
   "cell_type": "code",
   "execution_count": 40,
   "metadata": {},
   "outputs": [],
   "source": [
    "datasetDf = datasetDf.sample(frac=1)"
   ]
  },
  {
   "cell_type": "code",
   "execution_count": 41,
   "metadata": {},
   "outputs": [],
   "source": [
    "trainRatio = 0.8\n",
    "trainSplit = int(trainRatio * len(datasetDf))\n",
    "n_iter = 50"
   ]
  },
  {
   "cell_type": "code",
   "execution_count": 42,
   "metadata": {},
   "outputs": [],
   "source": [
    "# Baseline Factorization Machine"
   ]
  },
  {
   "cell_type": "code",
   "execution_count": 43,
   "metadata": {},
   "outputs": [],
   "source": [
    "dataTrain = datasetDf.to_dict('records')"
   ]
  },
  {
   "cell_type": "code",
   "execution_count": 44,
   "metadata": {},
   "outputs": [],
   "source": [
    "userIDs,itemIDs = {},{}\n",
    "\n",
    "for d in dataTrain:\n",
    "    u,i = d['user_id'],d['recipe_id']\n",
    "    if not u in userIDs: userIDs[u] = len(userIDs)\n",
    "    if not i in itemIDs: itemIDs[i] = len(itemIDs)\n",
    "\n",
    "nUsers, nItems = len(userIDs),len(itemIDs)\n",
    "\n",
    "X = scipy.sparse.lil_matrix((len(dataTrain), nUsers + nItems))\n",
    "\n",
    "for i in range(len(dataTrain)):\n",
    "    user = userIDs[dataTrain[i]['user_id']]\n",
    "    item = itemIDs[dataTrain[i]['recipe_id']]\n",
    "    X[i,user] = 1 # One-hot encoding of user\n",
    "    X[i,nUsers + item] = 1 # One-hot encoding of item\n",
    "\n",
    "y = np.array([float(d['rating']) for d in dataTrain])\n"
   ]
  },
  {
   "cell_type": "code",
   "execution_count": 45,
   "metadata": {},
   "outputs": [],
   "source": [
    "X_train,y_train = X[:trainSplit],y[:trainSplit]\n",
    "X_test,y_test = X[trainSplit:],y[trainSplit:]"
   ]
  },
  {
   "cell_type": "code",
   "execution_count": 46,
   "metadata": {},
   "outputs": [],
   "source": [
    "fm = als.FMRegression(n_iter=n_iter, init_stdev=0.1, rank=5, l2_reg_w=0.1, l2_reg_V=0.5)\n",
    "fm.fit(X_train, y_train)\n",
    "y_pred = fm.predict(X_test)"
   ]
  },
  {
   "cell_type": "code",
   "execution_count": 47,
   "metadata": {},
   "outputs": [],
   "source": [
    "def MSE(predictions, labels):\n",
    "    differences = [(x-y)**2 for x,y in zip(predictions,labels)]\n",
    "    return sum(differences) / len(differences)"
   ]
  },
  {
   "cell_type": "code",
   "execution_count": 48,
   "metadata": {},
   "outputs": [
    {
     "data": {
      "text/plain": [
       "np.float64(1.4101955558506474)"
      ]
     },
     "execution_count": 48,
     "metadata": {},
     "output_type": "execute_result"
    }
   ],
   "source": [
    "MSE(y_pred, y_test)"
   ]
  },
  {
   "cell_type": "code",
   "execution_count": 49,
   "metadata": {},
   "outputs": [],
   "source": [
    "### Added minutes"
   ]
  },
  {
   "cell_type": "code",
   "execution_count": 50,
   "metadata": {},
   "outputs": [],
   "source": [
    "def normalize(field):\n",
    "    array = []\n",
    "    for d in dataTrain:\n",
    "        array.append(d[field])\n",
    "    array = (np.min(array) - array) / (np.min(array) - np.max(array))\n",
    "    return array"
   ]
  },
  {
   "cell_type": "code",
   "execution_count": 51,
   "metadata": {},
   "outputs": [],
   "source": [
    "minutes = normalize('minutes')\n",
    "\n",
    "X = scipy.sparse.lil_matrix((len(dataTrain), nUsers + nItems + 1))\n",
    "\n",
    "for i in range(len(dataTrain)):\n",
    "    user = userIDs[dataTrain[i]['user_id']]\n",
    "    item = itemIDs[dataTrain[i]['recipe_id']]\n",
    "    X[i,user] = 1 # One-hot encoding of user\n",
    "    X[i,nUsers + item] = 1 # One-hot encoding of item\n",
    "    X[i,nUsers + nItems] = minutes[i]\n",
    "\n",
    "y = np.array([float(d['rating']) for d in dataTrain])\n",
    "\n",
    "X_train,y_train = X[:trainSplit],y[:trainSplit]\n",
    "X_test,y_test = X[trainSplit:],y[trainSplit:]"
   ]
  },
  {
   "cell_type": "code",
   "execution_count": 52,
   "metadata": {},
   "outputs": [],
   "source": [
    "fm = als.FMRegression(n_iter=n_iter, init_stdev=0.1, rank=5, l2_reg_w=0.1, l2_reg_V=0.5)\n",
    "fm.fit(X_train, y_train)\n",
    "y_pred = fm.predict(X_test)"
   ]
  },
  {
   "cell_type": "code",
   "execution_count": 53,
   "metadata": {},
   "outputs": [
    {
     "data": {
      "text/plain": [
       "np.float64(1.4232689990699412)"
      ]
     },
     "execution_count": 53,
     "metadata": {},
     "output_type": "execute_result"
    }
   ],
   "source": [
    "MSE(y_pred, y_test)"
   ]
  },
  {
   "cell_type": "code",
   "execution_count": 54,
   "metadata": {},
   "outputs": [],
   "source": [
    "### Add more numeric columns"
   ]
  },
  {
   "cell_type": "code",
   "execution_count": 55,
   "metadata": {},
   "outputs": [],
   "source": [
    "steps = normalize('n_steps')\n",
    "ingredients = normalize('n_ingredients')\n",
    "\n",
    "X = scipy.sparse.lil_matrix((len(dataTrain), nUsers + nItems + 3))\n",
    "\n",
    "for i in range(len(dataTrain)):\n",
    "    user = userIDs[dataTrain[i]['user_id']]\n",
    "    item = itemIDs[dataTrain[i]['recipe_id']]\n",
    "    X[i,user] = 1 # One-hot encoding of user\n",
    "    X[i,nUsers + item] = 1 # One-hot encoding of item\n",
    "    X[i,nUsers + nItems] = minutes[i]\n",
    "    X[i,nUsers + nItems + 1] = steps[i]\n",
    "    X[i,nUsers + nItems + 2] = ingredients[i]\n",
    "y = np.array([float(d['rating']) for d in dataTrain])\n",
    "\n",
    "X_train,y_train = X[:trainSplit],y[:trainSplit]\n",
    "X_test,y_test = X[trainSplit:],y[trainSplit:]"
   ]
  },
  {
   "cell_type": "code",
   "execution_count": 56,
   "metadata": {},
   "outputs": [],
   "source": [
    "fm = als.FMRegression(n_iter=n_iter, init_stdev=0.1, rank=5, l2_reg_w=0.1, l2_reg_V=0.5)\n",
    "fm.fit(X_train, y_train)\n",
    "y_pred = fm.predict(X_test)"
   ]
  },
  {
   "cell_type": "code",
   "execution_count": 57,
   "metadata": {},
   "outputs": [
    {
     "data": {
      "text/plain": [
       "np.float64(1.4176539039914906)"
      ]
     },
     "execution_count": 57,
     "metadata": {},
     "output_type": "execute_result"
    }
   ],
   "source": [
    "MSE(y_pred, y_test)"
   ]
  },
  {
   "cell_type": "code",
   "execution_count": 58,
   "metadata": {},
   "outputs": [],
   "source": [
    "### Add more numeric columns"
   ]
  },
  {
   "cell_type": "code",
   "execution_count": 59,
   "metadata": {},
   "outputs": [],
   "source": [
    "diff = normalize('days_difference')\n",
    "\n",
    "X = scipy.sparse.lil_matrix((len(dataTrain), nUsers + nItems + 2))\n",
    "\n",
    "for i in range(len(dataTrain)):\n",
    "    user = userIDs[dataTrain[i]['user_id']]\n",
    "    item = itemIDs[dataTrain[i]['recipe_id']]\n",
    "    X[i,user] = 1 # One-hot encoding of user\n",
    "    X[i,nUsers + item] = 1 # One-hot encoding of item\n",
    "    X[i,nUsers + nItems] = minutes[i]\n",
    "    X[i,nUsers + nItems + 1] = diff[i]\n",
    "y = np.array([float(d['rating']) for d in dataTrain])\n",
    "\n",
    "X_train,y_train = X[:trainSplit],y[:trainSplit]\n",
    "X_test,y_test = X[trainSplit:],y[trainSplit:]"
   ]
  },
  {
   "cell_type": "code",
   "execution_count": 60,
   "metadata": {},
   "outputs": [],
   "source": [
    "fm = als.FMRegression(n_iter=n_iter, init_stdev=0.1, rank=5, l2_reg_w=0.1, l2_reg_V=0.5)\n",
    "fm.fit(X_train, y_train)\n",
    "y_pred = fm.predict(X_test)"
   ]
  },
  {
   "cell_type": "code",
   "execution_count": 61,
   "metadata": {},
   "outputs": [
    {
     "data": {
      "text/plain": [
       "np.float64(1.4174419772616815)"
      ]
     },
     "execution_count": 61,
     "metadata": {},
     "output_type": "execute_result"
    }
   ],
   "source": [
    "MSE(y_pred, y_test)"
   ]
  },
  {
   "cell_type": "code",
   "execution_count": 62,
   "metadata": {},
   "outputs": [],
   "source": [
    "### Add binary columns"
   ]
  },
  {
   "cell_type": "code",
   "execution_count": 63,
   "metadata": {},
   "outputs": [],
   "source": [
    "X = scipy.sparse.lil_matrix((len(dataTrain), nUsers + nItems + 4))\n",
    "\n",
    "for i in range(len(dataTrain)):\n",
    "    user = userIDs[dataTrain[i]['user_id']]\n",
    "    item = itemIDs[dataTrain[i]['recipe_id']]\n",
    "    X[i,user] = 1 # One-hot encoding of user\n",
    "    X[i,nUsers + item] = 1 # One-hot encoding of item\n",
    "    X[i,nUsers + nItems] = minutes[i]\n",
    "    X[i,nUsers + nItems + 1] = diff[i]\n",
    "    X[i,nUsers + nItems + 2] = 1 if dataTrain[i]['top_500_reviews'] else 0\n",
    "    X[i,nUsers + nItems + 3] = 1 if dataTrain[i]['top_50_recipes'] else 0\n",
    "    \n",
    "y = np.array([float(d['rating']) for d in dataTrain])\n",
    "\n",
    "X_train,y_train = X[:trainSplit],y[:trainSplit]\n",
    "X_test,y_test = X[trainSplit:],y[trainSplit:]"
   ]
  },
  {
   "cell_type": "code",
   "execution_count": 64,
   "metadata": {},
   "outputs": [],
   "source": [
    "fm = als.FMRegression(n_iter=n_iter, init_stdev=0.1, rank=5, l2_reg_w=0.1, l2_reg_V=0.5)\n",
    "fm.fit(X_train, y_train)\n",
    "y_pred = fm.predict(X_test)"
   ]
  },
  {
   "cell_type": "code",
   "execution_count": null,
   "metadata": {},
   "outputs": [],
   "source": []
  },
  {
   "cell_type": "code",
   "execution_count": 65,
   "metadata": {},
   "outputs": [
    {
     "data": {
      "text/plain": [
       "np.float64(1.4213771146999603)"
      ]
     },
     "execution_count": 65,
     "metadata": {},
     "output_type": "execute_result"
    }
   ],
   "source": [
    "MSE(y_pred, y_test)"
   ]
  },
  {
   "cell_type": "code",
   "execution_count": null,
   "metadata": {},
   "outputs": [
    {
     "data": {
      "text/plain": [
       "np.float64(1.0900408496147544)"
      ]
     },
     "execution_count": 70,
     "metadata": {},
     "output_type": "execute_result"
    }
   ],
   "source": [
    "y_pred = [5] * len(y_test)\n",
    "MSE(y_pred, y_test)"
   ]
  },
  {
   "cell_type": "code",
   "execution_count": 74,
   "metadata": {},
   "outputs": [
    {
     "name": "stdout",
     "output_type": "stream",
     "text": [
      "[0. 1. 2. 3. 4. 5.]\n",
      "[  3342    653   1375   5155  25374 103882]\n"
     ]
    }
   ],
   "source": [
    "unique_values, counts = np.unique(y_test, return_counts=True)\n",
    "print(unique_values)\n",
    "print(counts)\n"
   ]
  },
  {
   "cell_type": "code",
   "execution_count": null,
   "metadata": {},
   "outputs": [],
   "source": []
  }
 ],
 "metadata": {
  "kernelspec": {
   "display_name": "Python 3",
   "language": "python",
   "name": "python3"
  },
  "language_info": {
   "codemirror_mode": {
    "name": "ipython",
    "version": 3
   },
   "file_extension": ".py",
   "mimetype": "text/x-python",
   "name": "python",
   "nbconvert_exporter": "python",
   "pygments_lexer": "ipython3",
   "version": "3.10.12"
  }
 },
 "nbformat": 4,
 "nbformat_minor": 2
}
